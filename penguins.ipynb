{
 "cells": [
  {
   "cell_type": "code",
   "execution_count": 4,
   "metadata": {},
   "outputs": [
    {
     "name": "stdout",
     "output_type": "stream",
     "text": [
      "3\n",
      "   _~_       _~_       _~_    \n",
      "  (o o)     (o o)     (o o)   \n",
      " /  V  \\   /  V  \\   /  V  \\  \n",
      "/(  _  )\\ /(  _  )\\ /(  _  )\\ \n",
      "  ^^ ^^     ^^ ^^     ^^ ^^   \n"
     ]
    }
   ],
   "source": [
    "p1 = \"   _~_    \"\n",
    "p2 = \"  (o o)   \"\n",
    "p3 = \" /  V  \\\\  \"\n",
    "p4 = \"/(  _  )\\\\ \"\n",
    "p5 = \"  ^^ ^^   \"\n",
    "amount = int(input())\n",
    "print(p1 * amount, sep=\" \")\n",
    "print(p2 * amount, sep=\" \")\n",
    "print(p3 * amount, sep=\" \")\n",
    "print(p4 * amount, sep=\" \")\n",
    "print(p5 * amount, sep=\" \")"
   ]
  },
  {
   "cell_type": "code",
   "execution_count": 15,
   "metadata": {},
   "outputs": [
    {
     "name": "stdout",
     "output_type": "stream",
     "text": [
      "7\n",
      "8\n"
     ]
    }
   ],
   "source": [
    "num = int(input())\n",
    "print(num + (2 ** (num % 2 //1 ))"
   ]
  },
  {
   "cell_type": "code",
   "execution_count": null,
   "metadata": {},
   "outputs": [],
   "source": []
  },
  {
   "cell_type": "code",
   "execution_count": null,
   "metadata": {},
   "outputs": [],
   "source": []
  }
 ],
 "metadata": {
  "kernelspec": {
   "display_name": "Python 3",
   "language": "python",
   "name": "python3"
  },
  "language_info": {
   "codemirror_mode": {
    "name": "ipython",
    "version": 3
   },
   "file_extension": ".py",
   "mimetype": "text/x-python",
   "name": "python",
   "nbconvert_exporter": "python",
   "pygments_lexer": "ipython3",
   "version": "3.8.2"
  }
 },
 "nbformat": 4,
 "nbformat_minor": 4
}
