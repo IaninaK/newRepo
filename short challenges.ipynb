{
 "cells": [
  {
   "cell_type": "code",
   "execution_count": 2,
   "metadata": {},
   "outputs": [
    {
     "name": "stdout",
     "output_type": "stream",
     "text": [
      "5\n",
      "32\n"
     ]
    }
   ],
   "source": [
    "#the exponent of N\n",
    "n = int(input())\n",
    "print(2**n)"
   ]
  },
  {
   "cell_type": "code",
   "execution_count": 26,
   "metadata": {},
   "outputs": [
    {
     "name": "stdout",
     "output_type": "stream",
     "text": [
      "12123\n",
      "3\n"
     ]
    }
   ],
   "source": [
    "#last digit\n",
    "n = int(input())\n",
    "print(n % 10)"
   ]
  },
  {
   "cell_type": "code",
   "execution_count": 41,
   "metadata": {},
   "outputs": [
    {
     "name": "stdout",
     "output_type": "stream",
     "text": [
      "23\n",
      "2\n"
     ]
    }
   ],
   "source": [
    "#first digit of a double digit num\n",
    "n = int(input())\n",
    "print(n // 10)"
   ]
  },
  {
   "cell_type": "code",
   "execution_count": 34,
   "metadata": {},
   "outputs": [
    {
     "name": "stdout",
     "output_type": "stream",
     "text": [
      "235\n",
      "3\n"
     ]
    }
   ],
   "source": [
    "#second to last digit\n",
    "k = int(input())\n",
    "print((k // 10) % 10)"
   ]
  },
  {
   "cell_type": "code",
   "execution_count": 38,
   "metadata": {},
   "outputs": [
    {
     "name": "stdout",
     "output_type": "stream",
     "text": [
      "123\n",
      "6\n"
     ]
    }
   ],
   "source": [
    "#sum of three digits\n",
    "k = int(input())\n",
    "hundreds = k // 100\n",
    "tens = (k // 10) % 10\n",
    "ones = k % 10\n",
    "print(hundreds + tens + ones)\n"
   ]
  },
  {
   "cell_type": "code",
   "execution_count": 42,
   "metadata": {},
   "outputs": [
    {
     "name": "stdout",
     "output_type": "stream",
     "text": [
      "AAAAAAAAAAAAAAAAAAAAAAAAAAAAAAAAAAAAAAAAAAAAAAAAAAAAAAAAAAAAAAAAAAAAAAAAAAAAAAAAAAAAAAAAAAAAAAAAAAAA\n"
     ]
    }
   ],
   "source": [
    "#100A (print A 100 times)\n",
    "print(\"A\" * 100)"
   ]
  },
  {
   "cell_type": "code",
   "execution_count": 2,
   "metadata": {},
   "outputs": [
    {
     "name": "stdout",
     "output_type": "stream",
     "text": [
      "156\n",
      "2 36\n"
     ]
    }
   ],
   "source": [
    "#Дано число N. С начала суток прошло N минут. Определите,\n",
    "# сколько часов и минут будут показывать электронные часы в этот момент.\n",
    "n = int(input())\n",
    "hours = n // 60\n",
    "minutes = n % 60\n",
    "print(hours % 24, minutes)"
   ]
  },
  {
   "cell_type": "code",
   "execution_count": 3,
   "metadata": {},
   "outputs": [
    {
     "name": "stdin",
     "output_type": "stream",
     "text": [
      " 60\n",
      " 2\n"
     ]
    },
    {
     "name": "stdout",
     "output_type": "stream",
     "text": [
      "11\n"
     ]
    }
   ],
   "source": [
    "#cicular path\n",
    "v = int(input()) #time\n",
    "t = int(input()) #velocity\n",
    "distance = v * t\n",
    "print(distance % 109)"
   ]
  },
  {
   "cell_type": "code",
   "execution_count": null,
   "metadata": {},
   "outputs": [],
   "source": [
    "#apples\n",
    "n = int(input())\n",
    "k = int(input())\n",
    "print(k % n)"
   ]
  },
  {
   "cell_type": "code",
   "execution_count": 14,
   "metadata": {},
   "outputs": [
    {
     "name": "stdout",
     "output_type": "stream",
     "text": [
      "10\n",
      "15\n",
      "2\n",
      "20 30\n"
     ]
    }
   ],
   "source": [
    "#pierogies\n",
    "a = int(input())\n",
    "b = int(input())\n",
    "n = int(input())\n",
    "cents = (a * 100 + b) * n\n",
    "print(cents // 100, cents % 100)"
   ]
  },
  {
   "cell_type": "code",
   "execution_count": 18,
   "metadata": {},
   "outputs": [
    {
     "name": "stdout",
     "output_type": "stream",
     "text": [
      "179\n",
      "The next number for the number 179 is 180 .\n",
      "The previous number for the number 179 is 178 .\n"
     ]
    }
   ],
   "source": [
    "number = int(input())\n",
    "print(\"The next number for the number\", number, \"is\", number + 1, \".\")\n",
    "print(\"The previous number for the number\", number, \"is\", number -1, \".\")"
   ]
  },
  {
   "cell_type": "code",
   "execution_count": null,
   "metadata": {},
   "outputs": [],
   "source": [
    "num = int(input())\n",
    "print(num % 2 + num)"
   ]
  },
  {
   "cell_type": "code",
   "execution_count": 4,
   "metadata": {},
   "outputs": [
    {
     "name": "stdout",
     "output_type": "stream",
     "text": [
      "12\n",
      "14\n"
     ]
    }
   ],
   "source": [
    "num = int(input())\n",
    "print(num + (2 + (num % 2)))"
   ]
  },
  {
   "cell_type": "code",
   "execution_count": null,
   "metadata": {},
   "outputs": [],
   "source": []
  }
 ],
 "metadata": {
  "kernelspec": {
   "display_name": "Python 3",
   "language": "python",
   "name": "python3"
  },
  "language_info": {
   "codemirror_mode": {
    "name": "ipython",
    "version": 3
   },
   "file_extension": ".py",
   "mimetype": "text/x-python",
   "name": "python",
   "nbconvert_exporter": "python",
   "pygments_lexer": "ipython3",
   "version": "3.8.2"
  }
 },
 "nbformat": 4,
 "nbformat_minor": 4
}
