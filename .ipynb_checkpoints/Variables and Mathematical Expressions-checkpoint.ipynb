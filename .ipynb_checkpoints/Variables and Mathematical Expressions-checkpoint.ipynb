{
 "cells": [
  {
   "cell_type": "code",
   "execution_count": 1,
   "metadata": {},
   "outputs": [
    {
     "name": "stdout",
     "output_type": "stream",
     "text": [
      "17\n",
      "5\n",
      "1.8333333333333333\n",
      "1\n",
      "1771561\n",
      "5\n"
     ]
    }
   ],
   "source": [
    "print(11 + 6) # addition\n",
    "print(11 - 6) # subtraction\n",
    "print(11 / 6) # division\n",
    "print(11 // 6)# whole numer division\n",
    "print(11**6) #exponent\n",
    "print(11 % 6)#remainder from divison"
   ]
  },
  {
   "cell_type": "markdown",
   "metadata": {},
   "source": [
    "Word Problem\n",
    "\n",
    "\n",
    "It is currently 23:00. What time will it be 8 hours later?"
   ]
  },
  {
   "cell_type": "code",
   "execution_count": 6,
   "metadata": {},
   "outputs": [
    {
     "name": "stdout",
     "output_type": "stream",
     "text": [
      "7\n",
      "8\n",
      "❁noice❁\n"
     ]
    }
   ],
   "source": [
    "# just addition will not woek here, since the clock doesn't show hours after 24\n",
    "print((23 + 8) % 24)\n",
    "print((7 - 23) % 24) #check\n",
    "print(\"noice\")"
   ]
  },
  {
   "cell_type": "code",
   "execution_count": null,
   "metadata": {},
   "outputs": [],
   "source": []
  }
 ],
 "metadata": {
  "kernelspec": {
   "display_name": "Python 3",
   "language": "python",
   "name": "python3"
  },
  "language_info": {
   "codemirror_mode": {
    "name": "ipython",
    "version": 3
   },
   "file_extension": ".py",
   "mimetype": "text/x-python",
   "name": "python",
   "nbconvert_exporter": "python",
   "pygments_lexer": "ipython3",
   "version": "3.8.2"
  }
 },
 "nbformat": 4,
 "nbformat_minor": 4
}
