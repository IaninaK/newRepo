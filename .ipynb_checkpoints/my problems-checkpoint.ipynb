{
 "cells": [
  {
   "cell_type": "code",
   "execution_count": 3,
   "metadata": {},
   "outputs": [
    {
     "name": "stdout",
     "output_type": "stream",
     "text": [
      "1\n",
      "1\n",
      "1\n",
      "2\n",
      "2\n",
      "2\n",
      "3661\n"
     ]
    }
   ],
   "source": [
    "# Даны два момента времени в пределах одних и тех же суток. Для каждого момента указан час, минута и секунда.\n",
    "# Известно, что второй момент времени наступил не раньше первого. \n",
    "# Определите сколько секунд прошло между двумя моментами времени.\n",
    "\n",
    "a1 = int(input()) #time 1\n",
    "a2 = int(input())\n",
    "a3 = int(input())\n",
    "b1 = int(input()) #time 2\n",
    "b2 = int(input())\n",
    "b3 = int(input())\n",
    "aSec = a1 * 3600 + a2 * 60 + a3\n",
    "bSec = b1 * 3600 + b2 * 60 + b3\n",
    "print(bSec - aSec)"
   ]
  },
  {
   "cell_type": "code",
   "execution_count": 13,
   "metadata": {},
   "outputs": [
    {
     "name": "stdout",
     "output_type": "stream",
     "text": [
      "700\n",
      "750\n",
      "2\n"
     ]
    }
   ],
   "source": [
    "# За день машина проезжает N километров. Сколько дней нужно, чтобы проехать маршрут длиной M километров?\n",
    "n = int(input())\n",
    "m = int(input())\n",
    "print(m // n + 1 - 0**(m % n))  #0 to any exponent other than 0 is 0\n",
    "                                #0 to the 0 exponent is 1"
   ]
  },
  {
   "cell_type": "code",
   "execution_count": 18,
   "metadata": {},
   "outputs": [
    {
     "name": "stdout",
     "output_type": "stream",
     "text": [
      "10\n",
      "3\n",
      "2\n",
      "8\n"
     ]
    }
   ],
   "source": [
    "h = int(input())\n",
    "a = int(input())\n",
    "b = int(input())\n",
    "rate = a - b\n",
    "print((h - b) // rate)"
   ]
  },
  {
   "cell_type": "code",
   "execution_count": null,
   "metadata": {},
   "outputs": [],
   "source": []
  }
 ],
 "metadata": {
  "kernelspec": {
   "display_name": "Python 3",
   "language": "python",
   "name": "python3"
  },
  "language_info": {
   "codemirror_mode": {
    "name": "ipython",
    "version": 3
   },
   "file_extension": ".py",
   "mimetype": "text/x-python",
   "name": "python",
   "nbconvert_exporter": "python",
   "pygments_lexer": "ipython3",
   "version": "3.8.2"
  }
 },
 "nbformat": 4,
 "nbformat_minor": 4
}
