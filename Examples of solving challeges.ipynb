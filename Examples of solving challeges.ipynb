{
 "cells": [
  {
   "cell_type": "code",
   "execution_count": 1,
   "metadata": {},
   "outputs": [],
   "source": [
    "# Пусть есть два товара, первый из них стоит A рублей B копеек, а второй - C рублей D копеек.\n",
    "# Сколько рублей и копеек стоят эти товары вместе. "
   ]
  },
  {
   "cell_type": "code",
   "execution_count": 2,
   "metadata": {},
   "outputs": [
    {
     "name": "stdout",
     "output_type": "stream",
     "text": [
      "3\n",
      "2\n",
      "2\n",
      "2\n",
      "5 4\n"
     ]
    }
   ],
   "source": [
    "a = int(input())\n",
    "b = int(input())\n",
    "c = int(input())\n",
    "d = int(input())\n",
    "cost1 = a * 100 + b\n",
    "cost2 = c * 100 + d\n",
    "totalCost = cost1 + cost2\n",
    "print(totalCost // 100, totalCost % 100)"
   ]
  },
  {
   "cell_type": "code",
   "execution_count": 3,
   "metadata": {},
   "outputs": [],
   "source": [
    "# Вася играет в Super Mario Bros.получил N дополнительных жизней. Известно, что переменная, в которой хранится\n",
    "# количество жизней может принимать значения от 0 до 255. В случае, если было 255 жизней и\n",
    "# игрок получил дополнительную жизнь, счетчик обнуляется. Сколько жизней на счетчике?"
   ]
  },
  {
   "cell_type": "code",
   "execution_count": 5,
   "metadata": {},
   "outputs": [
    {
     "name": "stdout",
     "output_type": "stream",
     "text": [
      "2223\n",
      "175\n"
     ]
    }
   ],
   "source": [
    "n = int(input())\n",
    "print(n % 256)"
   ]
  },
  {
   "cell_type": "code",
   "execution_count": null,
   "metadata": {},
   "outputs": [],
   "source": [
    "#Any number with the exponent 0 = 1\n",
    "#a ** 0 = 1\n",
    "#a ** 1 = a"
   ]
  }
 ],
 "metadata": {
  "kernelspec": {
   "display_name": "Python 3",
   "language": "python",
   "name": "python3"
  },
  "language_info": {
   "codemirror_mode": {
    "name": "ipython",
    "version": 3
   },
   "file_extension": ".py",
   "mimetype": "text/x-python",
   "name": "python",
   "nbconvert_exporter": "python",
   "pygments_lexer": "ipython3",
   "version": "3.8.2"
  }
 },
 "nbformat": 4,
 "nbformat_minor": 4
}
